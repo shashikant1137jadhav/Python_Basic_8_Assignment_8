{
 "cells": [
  {
   "cell_type": "markdown",
   "id": "d5d68758",
   "metadata": {},
   "source": [
    "## 1. Is the Python Standard Library included with PyInputPlus?"
   ]
  },
  {
   "cell_type": "markdown",
   "id": "47adc65e",
   "metadata": {},
   "source": [
    "PyInputPlus is not a part of the Python Standard Library, we must install it separately using Pip."
   ]
  },
  {
   "cell_type": "markdown",
   "id": "5c934b16",
   "metadata": {},
   "source": [
    "## 2. Why is PyInputPlus commonly imported with import pyinputplus as pypi?"
   ]
  },
  {
   "cell_type": "markdown",
   "id": "14d764ee",
   "metadata": {},
   "source": [
    "You can import the module with import pyinputplus as pyip so that you can enter a shorter name when calling the module’s functions"
   ]
  },
  {
   "cell_type": "markdown",
   "id": "76893ddd",
   "metadata": {},
   "source": [
    "## 3. How do you distinguish between inputInt() and inputFloat()?"
   ]
  },
  {
   "cell_type": "markdown",
   "id": "366dc691",
   "metadata": {},
   "source": [
    "The difference is in the data-type when you use the first one the program expects an integer value as input but in the latter it expects a float value i.e number containing a decimal"
   ]
  },
  {
   "cell_type": "markdown",
   "id": "c0c929ee",
   "metadata": {},
   "source": [
    "## 4. Using PyInputPlus, how do you ensure that the user enters a whole number between 0 and 99?"
   ]
  },
  {
   "cell_type": "markdown",
   "id": "5c1f2d03",
   "metadata": {},
   "source": [
    "By using pyip.inputint(min=0, max=99)"
   ]
  },
  {
   "cell_type": "markdown",
   "id": "6721a813",
   "metadata": {},
   "source": [
    "## 5. What is transferred to the keyword arguments allowRegexes and blockRegexes?"
   ]
  },
  {
   "cell_type": "markdown",
   "id": "e5b38ec8",
   "metadata": {},
   "source": [
    " A list of regex strings that are either explicitly allowed or denied"
   ]
  },
  {
   "cell_type": "markdown",
   "id": "2d7748a8",
   "metadata": {},
   "source": [
    "## 6. If a blank input is entered three times, what does inputStr(limit=3) do?"
   ]
  },
  {
   "cell_type": "markdown",
   "id": "83b48dd0",
   "metadata": {},
   "source": [
    "The function will raise RetryLimitException."
   ]
  },
  {
   "cell_type": "markdown",
   "id": "482c9be8",
   "metadata": {},
   "source": [
    "## 7. If blank input is entered three times, what does inputStr(limit=3, default=&#39;hello&#39;) do?"
   ]
  },
  {
   "cell_type": "markdown",
   "id": "c73ec0fa",
   "metadata": {},
   "source": [
    "The function returns the value 'hello'"
   ]
  },
  {
   "cell_type": "code",
   "execution_count": null,
   "id": "f4732e48",
   "metadata": {},
   "outputs": [],
   "source": []
  }
 ],
 "metadata": {
  "kernelspec": {
   "display_name": "Python 3 (ipykernel)",
   "language": "python",
   "name": "python3"
  },
  "language_info": {
   "codemirror_mode": {
    "name": "ipython",
    "version": 3
   },
   "file_extension": ".py",
   "mimetype": "text/x-python",
   "name": "python",
   "nbconvert_exporter": "python",
   "pygments_lexer": "ipython3",
   "version": "3.9.12"
  }
 },
 "nbformat": 4,
 "nbformat_minor": 5
}
